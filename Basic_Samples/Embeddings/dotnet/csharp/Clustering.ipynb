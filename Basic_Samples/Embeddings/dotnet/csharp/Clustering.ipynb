{
 "cells": [
  {
   "cell_type": "markdown",
   "metadata": {},
   "source": [
    "## K-means Clustering in C# using OpenAI\n",
    "We use a simple k-means algorithm to demonstrate how clustering can be done. Clustering can help discover valuable, hidden groupings within the data. The dataset is created in the [Get_embeddings_from_dataset Notebook](Get_embeddings_from_dataset.ipynb) Notebook."
   ]
  },
  {
   "cell_type": "code",
   "execution_count": 7,
   "metadata": {
    "dotnet_interactive": {
     "language": "csharp"
    },
    "polyglot_notebook": {
     "kernelName": "csharp"
    },
    "vscode": {
     "languageId": "polyglot-notebook"
    }
   },
   "outputs": [
    {
     "data": {
      "text/html": [
       "<div><div></div><div></div><div><strong>Installed Packages</strong><ul><li><span>Azure.AI.OpenAI, 1.0.0-beta.8</span></li></ul></div></div>"
      ]
     },
     "metadata": {},
     "output_type": "display_data"
    }
   ],
   "source": [
    "#r \"nuget: Azure.AI.OpenAI, *-*\""
   ]
  },
  {
   "cell_type": "markdown",
   "metadata": {},
   "source": [
    "## Run this cell, it will prompt you for the apiKey, endPoint, and chatDeployment"
   ]
  },
  {
   "cell_type": "code",
   "execution_count": 8,
   "metadata": {
    "dotnet_interactive": {
     "language": "csharp"
    },
    "polyglot_notebook": {
     "kernelName": "csharp"
    },
    "vscode": {
     "languageId": "polyglot-notebook"
    }
   },
   "outputs": [],
   "source": [
    "var azureOpenAIKey = await Kernel.GetPasswordAsync(\"Provide your OPEN_AI_KEY\");\n",
    "\n",
    "// Your endpoint should look like the following https://YOUR_OPEN_AI_RESOURCE_NAME.openai.azure.com/\n",
    "var azureOpenAIEndpoint = await Kernel.GetInputAsync(\"Provide the OPEN_AI_ENDPOINT\");\n",
    "\n",
    "// Enter the deployment name you chose when you deployed the model.\n",
    "var chatDeployment = await Kernel.GetInputAsync(\"Provide chat deployment name\");"
   ]
  },
  {
   "cell_type": "code",
   "execution_count": 9,
   "metadata": {
    "dotnet_interactive": {
     "language": "csharp"
    },
    "polyglot_notebook": {
     "kernelName": "csharp"
    },
    "vscode": {
     "languageId": "polyglot-notebook"
    }
   },
   "outputs": [],
   "source": [
    "using Azure;\n",
    "using Azure.AI.OpenAI;"
   ]
  },
  {
   "cell_type": "code",
   "execution_count": 10,
   "metadata": {
    "dotnet_interactive": {
     "language": "csharp"
    },
    "polyglot_notebook": {
     "kernelName": "csharp"
    },
    "vscode": {
     "languageId": "polyglot-notebook"
    }
   },
   "outputs": [],
   "source": [
    "OpenAIClient client = new (new Uri(azureOpenAIEndpoint), new AzureKeyCredential(azureOpenAIKey.GetClearTextPassword()));"
   ]
  },
  {
   "cell_type": "code",
   "execution_count": 1,
   "metadata": {
    "dotnet_interactive": {
     "language": "csharp"
    },
    "polyglot_notebook": {
     "kernelName": "csharp"
    },
    "vscode": {
     "languageId": "polyglot-notebook"
    }
   },
   "outputs": [
    {
     "data": {
      "text/html": [
       "<div><div></div><div></div><div><strong>Installed Packages</strong><ul><li><span>Microsoft.DotNet.Interactive.AIUtilities, 1.0.0-beta.23517.1</span></li></ul></div></div>"
      ]
     },
     "metadata": {},
     "output_type": "display_data"
    }
   ],
   "source": [
    "#r \"nuget:Microsoft.DotNet.Interactive.AIUtilities, 1.0.0-beta.23517.1\""
   ]
  },
  {
   "cell_type": "code",
   "execution_count": 2,
   "metadata": {
    "dotnet_interactive": {
     "language": "csharp"
    },
    "polyglot_notebook": {
     "kernelName": "csharp"
    },
    "vscode": {
     "languageId": "polyglot-notebook"
    }
   },
   "outputs": [
    {
     "data": {
      "text/html": [
       "<div><div></div><div></div><div><strong>Installed Packages</strong><ul><li><span>Microsoft.ML, 3.0.0-preview.23511.1</span></li></ul></div></div>"
      ]
     },
     "metadata": {},
     "output_type": "display_data"
    }
   ],
   "source": [
    "#r \"nuget: Microsoft.ML,  3.0.0-preview.23511.1\""
   ]
  },
  {
   "cell_type": "code",
   "execution_count": 4,
   "metadata": {
    "dotnet_interactive": {
     "language": "csharp"
    },
    "polyglot_notebook": {
     "kernelName": "csharp"
    },
    "vscode": {
     "languageId": "polyglot-notebook"
    }
   },
   "outputs": [],
   "source": [
    "using Microsoft.DotNet.Interactive;\n",
    "using Microsoft.DotNet.Interactive.AIUtilities;\n",
    "using Microsoft.ML;\n",
    "using Microsoft.ML.Data;\n",
    "using Microsoft.ML.Trainers;"
   ]
  },
  {
   "cell_type": "code",
   "execution_count": 12,
   "metadata": {
    "dotnet_interactive": {
     "language": "csharp"
    },
    "polyglot_notebook": {
     "kernelName": "csharp"
    },
    "vscode": {
     "languageId": "polyglot-notebook"
    }
   },
   "outputs": [],
   "source": [
    "public class DataRow{\n",
    "    public string ProducIt {get;set;} \n",
    "    public string UserId {get;set;} \n",
    "    public int Score {get;set;} \n",
    "    public string Summary {get;set;} \n",
    "    public string Text {get;set;} \n",
    "    public int TokenCount {get;set;} \n",
    "    [VectorType(1536)]\n",
    "    public float[] Embedding {get;set;} \n",
    "};"
   ]
  },
  {
   "cell_type": "code",
   "execution_count": 13,
   "metadata": {
    "dotnet_interactive": {
     "language": "csharp"
    },
    "polyglot_notebook": {
     "kernelName": "csharp"
    },
    "vscode": {
     "languageId": "polyglot-notebook"
    }
   },
   "outputs": [],
   "source": [
    "using System.Text.Json;\n",
    "using System.Text.Json.Serialization;\n",
    "using System.IO;\n",
    "\n",
    "var filePath = Path.Combine(\"..\",\"..\",\"..\",\"Data\",\"fine_food_reviews_with_embeddings_1k.json\");\n",
    "\n",
    "var foodReviewsData = JsonSerializer.Deserialize<DataRow[]>(File.ReadAllText(filePath));"
   ]
  },
  {
   "cell_type": "markdown",
   "metadata": {},
   "source": [
    "### 1. Find the clusters using K-means\n",
    "We show the simplest use of K-means. You can pick the number of clusters that fits your use case best."
   ]
  },
  {
   "cell_type": "markdown",
   "metadata": {},
   "source": [
    "First, a new instance of the `MLContext` class is created. \n",
    "\n",
    "Next, the `LoadFromEnumerable` method of the `Data` property of the `context` object is called to load the `foodReviewsData` into an `IDataView` object, which is a flexible, efficient way of describing tabular data (numeric and text).\n",
    "\n",
    "A pipeline is then defined using the `Clustering.Trainers.KMeans` method of the `context` object. This method creates a new K-Means clustering trainer. The first argument is the name of the feature column (in this case, \"Embedding\"), and the `numberOfClusters` parameter is set to 4, indicating that the algorithm should group the data into 4 clusters.\n",
    "\n",
    "The `Fit` method is then called on the pipeline, passing in the `idv` object. This trains the model on the loaded data and returns the trained model.\n",
    "\n",
    "The `Transform` method is then called on the `model` object, passing in the `idv` object. This applies the trained model to the loaded data, assigning each data point to a cluster.\n",
    "\n",
    "Finally, the `GetClusterCentroids` method is called on the `Model` property of the `model` object. This method retrieves the centroids of the clusters identified by the model. The centroids are stored in the `centroids` variable.\n"
   ]
  },
  {
   "cell_type": "code",
   "execution_count": 15,
   "metadata": {
    "dotnet_interactive": {
     "language": "csharp"
    },
    "polyglot_notebook": {
     "kernelName": "csharp"
    },
    "vscode": {
     "languageId": "polyglot-notebook"
    }
   },
   "outputs": [],
   "source": [
    "var context = new MLContext();\n",
    "var idv = context.Data.LoadFromEnumerable(foodReviewsData);\n",
    "var pipeline =  context.Clustering.Trainers.KMeans(\"Embedding\", numberOfClusters: 4);\n",
    "var model = pipeline.Fit(idv);\n",
    "var clusteredData = model.Transform(idv);\n",
    "\n",
    "VBuffer<float>[] centroids = default;\n",
    "model.Model.GetClusterCentroids(ref centroids, out var _);"
   ]
  },
  {
   "cell_type": "markdown",
   "metadata": {},
   "source": [
    "### 2. Text samples in the clusters & naming the clusters\n",
    "Let's show samples from each cluster. We'll use GPT to name the clusters, based on a random sample of 5 reviews from that cluster.\n",
    "Iterating over the clusters' centroids we find the most relevant reviewes using `CosineSimilarityComparer`. The we randomly pick 5 for each cluster."
   ]
  },
  {
   "cell_type": "code",
   "execution_count": 25,
   "metadata": {
    "dotnet_interactive": {
     "language": "csharp"
    },
    "polyglot_notebook": {
     "kernelName": "csharp"
    },
    "vscode": {
     "languageId": "polyglot-notebook"
    }
   },
   "outputs": [],
   "source": [
    "var rnd = new Random(42);\n",
    "\n",
    "var examples = centroids.Select(c => {\n",
    "    var embedding = c.GetValues().ToArray();\n",
    "    var reviews = new LinkedList<DataRow>(foodReviewsData\n",
    "        .ScoreBySimilarityTo(embedding, new CosineSimilarityComparer<float[]>(v => v), r => r.Embedding )\n",
    "        .OrderByDescending(e => e.Value)\n",
    "        .Select(e => e.Key)\n",
    "        .Take(200));\n",
    "\n",
    "    var samples = new List<DataRow>();\n",
    "    for(var i = 0; i < 5; i++)\n",
    "    {\n",
    "        var sample = reviews.ElementAt(rnd.Next(reviews.Count));\n",
    "        samples.Add(sample);\n",
    "        reviews.Remove(sample);\n",
    "    }\n",
    "    return new {\n",
    "            CenstroidEmbedding = embedding,\n",
    "            Reviews = samples\n",
    "            };\n",
    "    }\n",
    ").ToArray();"
   ]
  },
  {
   "cell_type": "markdown",
   "metadata": {},
   "source": [
    "Using the 5 random samples of each cluster we ask GPT for the common theme"
   ]
  },
  {
   "cell_type": "code",
   "execution_count": 26,
   "metadata": {
    "dotnet_interactive": {
     "language": "csharp"
    },
    "polyglot_notebook": {
     "kernelName": "csharp"
    },
    "vscode": {
     "languageId": "polyglot-notebook"
    }
   },
   "outputs": [
    {
     "data": {
      "text/plain": [
       "Cluster theme : The common theme among these customer reviews is that they are all reviewing different beverages (tea, coffee, cappuccino) and expressing their opinions and experiences with them.\r\n",
       "5, Hoping it's all it promises to be!: The tea leaves arrived in perfect condition with clear instructions for use.  I've made and drank two batches of the tea ( each makes four 8-oz cups) and I assume all the health-giving properties are doing their thing!  The tea itself is bland and pretty tasteless.  I drink it icy cold and it's like drinking water - no better, no worse.  People can add sweetener and drink it hot or warm also, but I just drink it in place of one of my usual water beverages because that is what I prefer.  It's a health drink and I can't imagine anyone disliking it, and that's the main thing.  You don't have to hold your nose and choke it down.  It's fine.\r\n",
       "\r\n",
       "5, Enjoyable, quick cups of coffee with no waste: My mother loves this coffee and the pods fit her coffee maker. It is hard to find pods that do work for it, so we have a standing order for this brand. She can have one or two cups, and go on her way. You just can't beat the ease!\r\n",
       "\r\n",
       "5, Blackcat: Great coffee!  Love all Green Mountain coffee and all the wonderful flavors.  Would and do recommend this coffee to all my friends.\r\n",
       "\r\n",
       "4, Good, but not Wolfgang Puck good: Honestly, I have to admit that I expected a little better. That's not to say that this is bad coffee - in fact it's quite bold without being too acidic, and pretty satisfying overall. I think my main problem is that Wolfgang Puck's name is attached to it, so perhaps it set my expectations a little high. I have a Wolfgang Puck knife set that I adore, and is very high quality for what I paid for it. This coffee was on sale, so it was well worth it also, I just hoped for something that would knock my socks off - which it didn't. I also purchased the Breakfast blend, and Jamaica me crazy at the same time. The breakfast blend was the best, in my opinion, and the jamaican coffee smelled the best, but was the least successful.\r\n",
       "\r\n",
       "5, Very Good!: This decaf cappuccino tastes just like the caffeinated stuff. I live in a small town and was unable to find decaf cappuccino anywhere. This stuff is very good and I would highly recommend it.\r\n"
      ]
     },
     "metadata": {},
     "output_type": "display_data"
    },
    {
     "data": {
      "text/plain": [
       "Cluster theme : The common theme among these customer reviews is that they all discuss the positive aspects of the products they purchased.\r\n",
       "5, Great product, but too much of it.: This pearls were exactly what I was looking for and made delicious tapioca pudding. My only complaint is that you have to order so many boxes. What am I going to do with all that tapioca?? Two or three would've lasted me a long time.\r\n",
       "\r\n",
       "5, Found what I been looking for: I have found what I was looking for in a popcorn seasoning. I have been looking for at least three years. I plan to order more soon.\r\n",
       "\r\n",
       "4, Not bad.: These are small and very salty. The taste is good, but very strong, so it's a good thing the package contains a small amount. It only takes a few little crisps to cure my salty/crunchy craving. I can snack on one package for an entire day. Of course these would not be a good snack if you're very hungry, because there isn't enough there to fill you up. For less than $1 per pack it's an okay deal.\r\n",
       "\r\n",
       "5, Perfect Snack: I purchased this item because it was reviewed so highly on another web site.  It didn't disappoint.  It's not overly sweet, which is perfect. I've compared the taste to less sweet cross between a fig newton and bit of a granola bar. Great for traveling when you don't have access to healthy snacks.\r\n",
       "\r\n",
       "5, Wonderful: Came quickly. Was plentiful and delicious and cheaper than in the store. You will enjoy it if you like thick pasta.\r\n"
      ]
     },
     "metadata": {},
     "output_type": "display_data"
    },
    {
     "data": {
      "text/plain": [
       "Cluster theme : The common theme among these customer reviews is that the products mentioned (Good Girl Treats, liver treats, cat food, Nylabone chew-toy stick, Greenies) are highly praised and loved by the customers' pets. The customers also mention positive effects on their pets' behavior, health, and overall well-being. Additionally, some customers mention the difficulty of finding the products in stores and express gratitude for being able to purchase them online.\r\n",
       "5, Good Girl Treats (GGTs): I purchased these treats on a whim for my dog a couple of years ago to assist with training.  She loved them and is well behaved! The grandkids sing a song and our dog will dance for a treat. My dog is eight years old and thanks to Dingo Treats, the vet says she has teeth like a two year old dog!  The only problem with the treats is that its extremely difficult to purchase in the store.  Thank goodness they are available on Amazon.\r\n",
       "\r\n",
       "5, Dogs love it.: This is the \"all gone\" treat after dinner.  It's the only treat that the dogs work for; and I did run the chance of losing a hand.  They know a new command now:  \"be gentle\" when taking liver treats.\r\n",
       "\r\n",
       "5, Nothing but the Best Fir My Cat: This is the greatest food I have ever found for my cat. He's old and not in the best of health, but since I switched him to this diet he has had an incredible change in his health. His diabetes has reversed  itself, and his kidney functions have become normal again. He will continue to live many more healthier years. And, he loves the food!\r\n",
       "\r\n",
       "4, My Pit Loves It: This Nylabone chew-toy stick is great for my pit.  She loves to chew things but gets tired of the regular shaped bones.  This Nylabone stick is perfect.  It's durable and my pit likes the hollow stick-shape for some reason.  I think the bacon scent also attracts her.  I definitely would recommend this toy for anybody that has a big dog that loves to chew!\r\n",
       "\r\n",
       "5, A great deal on Greenies: Paid only $22 with free shipping for 96 teenies compared to about $35 at the pet store. How can you go wrong with a deal like that?  The dog begs for his daily Greenie. Got to have them.\r\n"
      ]
     },
     "metadata": {},
     "output_type": "display_data"
    },
    {
     "data": {
      "text/plain": [
       "Cluster theme : All of the customer reviews have a positive rating of 5 stars.\r\n",
       "5, Loved these gluten free healthy bars, saved $$ ordering on Amazon: These Kind Bars are so good and healthy & gluten free.  My daughter came across them and loves them for a quick snack between her hectic schedule of classes & work. Most times she won't have time to eat a full meal and these are such a great alternative to fast food.  I will order again & this time I'll get a few for moi! Really loved the coconut too..\r\n",
       "\r\n",
       "5, Great product, but too much of it.: This pearls were exactly what I was looking for and made delicious tapioca pudding. My only complaint is that you have to order so many boxes. What am I going to do with all that tapioca?? Two or three would've lasted me a long time.\r\n",
       "\r\n",
       "5, Party Peanuts: Great product for the price. Mix with the Asian rice crackers for an excellent snack.  Big container lasts a long time. Only lightly slighted. Peanuts are whole and large.\r\n",
       "\r\n",
       "5, These fresh berries are truly MIRACULOUS!!!: I have ordered from Ethans on three separate occasions and I couldn't be happier. The berries have always arrived fresh and exactly on the day I chose. The \"sweet\" effect usually last a good 40 minutes and it's a blast. IT TRULY WORKS! All of my family and friends have been absolutely amazed by it. Don't hesitate to try these, you will not regret it!\r\n",
       "\r\n",
       "5, Perfect treat: Arrived on time.  The sweet treat reminds me of  my childhood where you smack it to break into edible pieces.\r\n"
      ]
     },
     "metadata": {},
     "output_type": "display_data"
    }
   ],
   "source": [
    "foreach (var example in examples)\n",
    "{\n",
    "    var prompt =\n",
    "$\"\"\"\n",
    "What do the following customer reviews have in common?\n",
    "Customer reviews:\n",
    "{string.Join(\"\\n\", example.Reviews.Select(r => $\"{r.Score}, {r.Summary}: {r.Text}\"))}\n",
    "Theme:\n",
    "\"\"\";\n",
    "    var options= new ChatCompletionsOptions{\n",
    "        Messages ={ new ChatMessage(ChatRole.User, prompt)},\n",
    "        Temperature = 0f,\n",
    "    };\n",
    "\n",
    "    var response = await client.GetChatCompletionsAsync(chatDeployment ,options);\n",
    "    var theme = response.Value.Choices.FirstOrDefault()?.Message?.Content;\n",
    "    var text = new StringBuilder($\"Cluster theme : {theme}\");\n",
    "    foreach (var review in example.Reviews)\n",
    "    {\n",
    "        text.AppendLine();\n",
    "        text.AppendLine($\"{review.Score}, {review.Summary}: {review.Text}\");\n",
    "    }\n",
    "    text.ToString().Display();\n",
    "}"
   ]
  }
 ],
 "metadata": {
  "language_info": {
   "name": "csharp"
  },
  "orig_nbformat": 4
 },
 "nbformat": 4,
 "nbformat_minor": 2
}
