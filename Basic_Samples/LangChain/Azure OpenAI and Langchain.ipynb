{
 "cells": [
  {
   "cell_type": "markdown",
   "id": "6d251ced",
   "metadata": {},
   "source": [
    "# How to use LangChain and Azure OpenAI with Python\n",
    "\n",
    "\n",
    "Langchain is an open source framework for developing applications using large language models (LLM). <br>\n",
    "\n",
    "This guide will demonstrate how to setup and use Azure OpenAI models' API with LangChain.\n",
    "    "
   ]
  },
  {
   "cell_type": "markdown",
   "id": "9d0ee335",
   "metadata": {},
   "source": [
    "## Set Up\n",
    "The following libraries must be installed to use LangChain with Azure OpenAI.<br>"
   ]
  },
  {
   "cell_type": "code",
   "execution_count": 16,
   "id": "35289cea",
   "metadata": {},
   "outputs": [],
   "source": [
    "#%pip install --upgrade openai\n",
    "#%pip install langchain"
   ]
  },
  {
   "cell_type": "markdown",
   "id": "ba880453",
   "metadata": {},
   "source": [
    "## API Configuation\n",
    "\n",
    "After installing the necessary libraies, the API must be configured. The code below shows how to configure the API directly in your Python environment. \n"
   ]
  },
  {
   "cell_type": "code",
   "execution_count": 25,
   "id": "a9752fda",
   "metadata": {
    "scrolled": true
   },
   "outputs": [],
   "source": [
    "from langchain.llms import AzureOpenAI \n",
    "import openai\n",
    "import json\n",
    "import os\n",
    "\n",
    "# Load config values\n",
    "with open(r'config.json') as config_file:\n",
    "    config_details = json.load(config_file)\n",
    "\n",
    "# Setting up the deployment name\n",
    "deployment_name = config_details['DEPLOYMENT_NAME']\n",
    "\n",
    "# This is set to `azure`\n",
    "openai.api_type = \"azure\"\n",
    "\n",
    "# The API key for your Azure OpenAI resource.\n",
    "openai.api_key = os.getenv(\"OPENAI_API_KEY\")\n",
    "\n",
    "# The base URL for your Azure OpenAI resource. e.g. \"https://<your resource name>.openai.azure.com\"\n",
    "openai.api_base = config_details['OPENAI_API_BASE']\n",
    "\n",
    "# Currently Chat Completion API have the following versions available: 2023-07-01-preview\n",
    "openai.api_version = config_details['OPENAI_API_VERSION']"
   ]
  },
  {
   "cell_type": "markdown",
   "id": "ab4779e5",
   "metadata": {},
   "source": [
    "## Deployed Model Setup\n",
    "\n",
    "Azure OpenAI allows users to create and manage their own model deployments. To call the API, you must specify the deployment you want to use by passing in the deployment name and model name. "
   ]
  },
  {
   "cell_type": "code",
   "execution_count": 33,
   "id": "6ea3e99f",
   "metadata": {},
   "outputs": [
    {
     "data": {
      "text/plain": [
       "\"\\n\\n\\n\\n\\nThe world is a beautiful place,\\nThe colors are so bright and true,\\nAnd I feel so free and free,\\nWhen I'm away from here.\\n\\nThe sky is so blue,\\nAnd the sun is so warm,\\nAnd I feel so free and free,\\nWhen I'm away from here.\""
      ]
     },
     "execution_count": 33,
     "metadata": {},
     "output_type": "execute_result"
    }
   ],
   "source": [
    "# Create an instance of Azure OpenAI\n",
    "\n",
    "# Replace the deployment name and model name with your own\n",
    "llm = AzureOpenAI(\n",
    "    deployment_name= deployment_name,\n",
    "    model_name=\"text-davinci-002\", \n",
    ")\n",
    "\n",
    "# Run the LLM\n",
    "llm(\"Write me a poem\")"
   ]
  },
  {
   "cell_type": "markdown",
   "id": "dc7ea2d4",
   "metadata": {},
   "source": [
    "## PromptTemplates\n",
    "\n",
    "Langchain provides a built in PromptsTemplate module to simplify the construction of prompts to get more specific answers."
   ]
  },
  {
   "cell_type": "code",
   "execution_count": 40,
   "id": "927d4bac",
   "metadata": {},
   "outputs": [
    {
     "name": "stdout",
     "output_type": "stream",
     "text": [
      "\n",
      "There are a number of good face washes that can help with acne prone skin. A few popular options include the Neutrogena Oil-Free Acne Wash, the Cetaphil Dermatological Gentle Skin Cleanser, and the La Roche-Posay Effaclar Medicated Gel Cleanser.\n"
     ]
    }
   ],
   "source": [
    "from langchain import PromptTemplate\n",
    "\n",
    "template = \"\"\"\n",
    "You are a skin care consulant that recommends products based on customer\n",
    "needs and preferences.\n",
    "\n",
    "What is a good {product_type} to help with {customer_request}?\n",
    "\"\"\"\n",
    "\n",
    "prompt = PromptTemplate(\n",
    "input_variables=[\"product_type\", \"customer_request\"],\n",
    "template=template,\n",
    ")\n",
    "\n",
    "print(llm(\n",
    "    prompt.format(\n",
    "        product_type=\"face wash\",\n",
    "        customer_request = \"acne prone skin\"\n",
    "    )\n",
    "))"
   ]
  },
  {
   "cell_type": "markdown",
   "id": "7b6723eb",
   "metadata": {},
   "source": [
    "## Chains\n",
    "There are many applications of chains that allow you to combine numerous LLM calls and actions.  <br>\n",
    "\n",
    "### Simple Sequential Chains  <br>\n",
    "Allow you to feed the output of one LLM Chain as input for another."
   ]
  },
  {
   "cell_type": "code",
   "execution_count": 46,
   "id": "af7c236f",
   "metadata": {},
   "outputs": [],
   "source": [
    "#from langchain.llms import AzureOpenAI\n",
    "from langchain.chains import LLMChain\n",
    "# from langchain.prompts import PromptTemplate\n",
    "from langchain.chains import SimpleSequentialChain"
   ]
  },
  {
   "cell_type": "code",
   "execution_count": 51,
   "id": "2a4a32f0",
   "metadata": {},
   "outputs": [],
   "source": [
    "template = \"\"\"Your job is to come up with a fun DIY project for the specified gender, age, and description of a kid.\n",
    "% CHILD_DESCRIPTION\n",
    "{child_description}\n",
    "\n",
    "YOUR RESPONSE:\n",
    "\"\"\"\n",
    "prompt_template = PromptTemplate(input_variables=[\"child_description\"], template=template)\n",
    "\n",
    "# Holds my 'location' chain\n",
    "description_chain = LLMChain(llm=llm, prompt=prompt_template)"
   ]
  },
  {
   "cell_type": "code",
   "execution_count": 55,
   "id": "6eec47ff",
   "metadata": {},
   "outputs": [],
   "source": [
    "template = \"\"\"Given a DIY project, give a short and simple recipe step-by-step guide on how to complete the project and a materials list.\n",
    "% DIY_PROJECT\n",
    "{diy_project}\n",
    "\n",
    "YOUR RESPONSE:\n",
    "\"\"\"\n",
    "prompt_template = PromptTemplate(input_variables=[\"diy_project\"], template=template)\n",
    "\n",
    "# Holds my 'meal' chain\n",
    "diy_chain = LLMChain(llm=llm, prompt=prompt_template)"
   ]
  },
  {
   "cell_type": "code",
   "execution_count": 56,
   "id": "84a15aea",
   "metadata": {},
   "outputs": [],
   "source": [
    "overall_chain = SimpleSequentialChain(chains=[description_chain, diy_chain], verbose=True)"
   ]
  },
  {
   "cell_type": "code",
   "execution_count": 57,
   "id": "15928f72",
   "metadata": {},
   "outputs": [
    {
     "name": "stdout",
     "output_type": "stream",
     "text": [
      "\n",
      "\n",
      "\u001b[1m> Entering new SimpleSequentialChain chain...\u001b[0m\n"
     ]
    },
    {
     "name": "stdout",
     "output_type": "stream",
     "text": [
      "\u001b[36;1m\u001b[1;3m\n",
      "A simple and fun DIY project for a 5-year-old girl is to make a paper doll. All you need is some paper, scissors, and crayons or markers. First, cut out a paper doll shape from the paper. Then, decorate the paper doll with clothes, hair, and facial features. You can also cut out paper furniture and accessories to create a paper doll scene.\u001b[0m\n",
      "\u001b[33;1m\u001b[1;3m\n",
      "1. Cut out a paper doll shape from the paper.\n",
      "2. Decorate the paper doll with clothes, hair, and facial features.\n",
      "3. Cut out paper furniture and accessories to create a paper doll scene.\n",
      "\n",
      "Materials needed:\n",
      "\n",
      "-Paper\n",
      "-Scissors\n",
      "-Crayons or markers\u001b[0m\n",
      "\n",
      "\u001b[1m> Finished chain.\u001b[0m\n"
     ]
    }
   ],
   "source": [
    "review = overall_chain.run(\"5-year-old girl\")"
   ]
  }
 ],
 "metadata": {
  "kernelspec": {
   "display_name": "Python 3 (ipykernel)",
   "language": "python",
   "name": "python3"
  },
  "language_info": {
   "codemirror_mode": {
    "name": "ipython",
    "version": 3
   },
   "file_extension": ".py",
   "mimetype": "text/x-python",
   "name": "python",
   "nbconvert_exporter": "python",
   "pygments_lexer": "ipython3",
   "version": "3.11.4"
  }
 },
 "nbformat": 4,
 "nbformat_minor": 5
}
