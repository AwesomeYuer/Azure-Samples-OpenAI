{
 "cells": [
  {
   "cell_type": "markdown",
   "id": "6d251ced",
   "metadata": {},
   "source": [
    "# How to use LangChain and Azure OpenAI with Python\n",
    "\n",
    "\n",
    "Langchain is an open source framework for developing applications using large language models (LLM). <br>\n",
    "\n",
    "This guide will demonstrate how to setup and use Azure OpenAI models' API with LangChain.\n",
    "    "
   ]
  },
  {
   "cell_type": "markdown",
   "id": "9d0ee335",
   "metadata": {},
   "source": [
    "## Set Up\n",
    "The following libraries must be installed to use LangChain with Azure OpenAI.<br>"
   ]
  },
  {
   "cell_type": "code",
   "execution_count": 20,
   "id": "35289cea",
   "metadata": {},
   "outputs": [],
   "source": [
    "#%pip install --upgrade openai\n",
    "#%pip install langchain"
   ]
  },
  {
   "cell_type": "markdown",
   "id": "ba880453",
   "metadata": {},
   "source": [
    "## API Configuation and Deployed Model Setup\n",
    "\n",
    "After installing the necessary libraies, the API must be configured. The code below shows how to configure the API directly in your Python environment. \n"
   ]
  },
  {
   "cell_type": "code",
   "execution_count": 21,
   "id": "a9752fda",
   "metadata": {
    "scrolled": true
   },
   "outputs": [],
   "source": [
    "import openai\n",
    "import json\n",
    "import os\n",
    "from langchain.chat_models import AzureChatOpenAI\n",
    "from langchain.schema import HumanMessage\n",
    "from langchain import LLMChain\n",
    "\n",
    "\n",
    "# Load config values\n",
    "with open(r'config.json') as config_file:\n",
    "    config_details = json.load(config_file)\n",
    "\n",
    "# The base URL for your Azure OpenAI resource. e.g. \"https://<your resource name>.openai.azure.com\"\n",
    "openai_api_base=config_details['OPENAI_API_BASE']\n",
    "    \n",
    "# API version e.g. \"2023-07-01-preview\"\n",
    "openai_api_version=config_details['OPENAI_API_VERSION']\n",
    "\n",
    "# The name of your Azure OpenAI deployment chat model. e.g. \"gpt-3-turbo-0613\"\n",
    "deployment_name=config_details['DEPLOYMENT_NAME']\n",
    "\n",
    "# The API key for your Azure OpenAI resource.\n",
    "openai_api_key = os.getenv(\"OPENAI_API_KEY\")\n",
    "\n",
    "# This is set to `azure`\n",
    "openai_api_type=\"azure\""
   ]
  },
  {
   "cell_type": "markdown",
   "id": "52da840e",
   "metadata": {},
   "source": [
    "## Deployed Model Setup"
   ]
  },
  {
   "cell_type": "code",
   "execution_count": 22,
   "id": "041f0a56",
   "metadata": {},
   "outputs": [
    {
     "data": {
      "text/plain": [
       "AIMessage(content=\"In a world of dreams, where words take flight,\\nI'll weave a poem, to bring you delight.\\nWith ink and rhythm, I'll paint a scene,\\nWhere emotions dance in colors unseen.\\n\\nIn twilight's embrace, the stars ignite,\\nAs moonbeams whisper, a poet's plight.\\nEach syllable, a gentle caress,\\nUnveiling secrets, in poetic finesse.\\n\\nThrough nature's canvas, I'll take you there,\\nWhere sunsets melt, in hues so rare.\\nA symphony of birds, their melodies blend,\\nAs whispers of wind, through tall trees ascend.\\n\\nIn the depths of silence, where echoes reside,\\nI'll find the stories that time can't hide.\\nUnearth forgotten tales, from ancient lore,\\nAnd breathe life into them, like never before.\\n\\nWith passion's fire, my verses will ignite,\\nEmbracing love's joy, and sorrow's might.\\nI'll capture the essence, of a tender touch,\\nAnd the ache of longing, that hurts so much.\\n\\nThrough valleys of hope, and mountains of despair,\\nI'll guide you gently, with tender care.\\nWith each word penned, a journey will start,\\nTo touch your soul, and mend a broken heart.\\n\\nSo let these lines, like whispered breeze,\\nWrap around your heart, with gentle ease.\\nFor in this poem, I'll pour my soul,\\nAnd hope its essence makes you whole.\", additional_kwargs={}, example=False)"
      ]
     },
     "execution_count": 22,
     "metadata": {},
     "output_type": "execute_result"
    }
   ],
   "source": [
    "# Create an instance of chat llm\n",
    "llm = AzureChatOpenAI(\n",
    "    openai_api_base=openai_api_base,\n",
    "    openai_api_version=openai_api_version,\n",
    "    deployment_name=deployment_name,\n",
    "    openai_api_key=openai_api_key,\n",
    "    openai_api_type=openai_api_type,\n",
    ")\n",
    "\n",
    "llm([HumanMessage(content=\"Write me a poem\")])"
   ]
  },
  {
   "cell_type": "markdown",
   "id": "dc7ea2d4",
   "metadata": {},
   "source": [
    "## PromptTemplates\n",
    "\n",
    "Langchain provides a built in PromptsTemplate module to simplify the construction of prompts to get more specific answers."
   ]
  },
  {
   "cell_type": "code",
   "execution_count": 23,
   "id": "927d4bac",
   "metadata": {},
   "outputs": [
    {
     "name": "stdout",
     "output_type": "stream",
     "text": [
      "Example #1:\n",
      "content=\"A good face wash for acne-prone skin is one that contains ingredients like salicylic acid or benzoyl peroxide. These ingredients are effective in combating acne by unclogging pores, reducing inflammation, and killing acne-causing bacteria. Here are a few recommendations:\\n\\n1. Neutrogena Oil-Free Acne Wash: This face wash contains salicylic acid, which helps to clear breakouts and prevent new ones. It is gentle on the skin and doesn't leave it feeling dry or tight.\\n\\n2. La Roche-Posay Effaclar Medicated Gel Cleanser: This cleanser is formulated with 2% salicylic acid and helps to remove excess oil and impurities from the skin. It is suitable for sensitive skin and helps to reduce acne breakouts.\\n\\n3. CeraVe Acne Foaming Cream Cleanser: This face wash is formulated with benzoyl peroxide to combat acne and promote a clear complexion. It also contains ceramides and hyaluronic acid to moisturize and protect the skin barrier.\\n\\nRemember, it's important to choose a face wash that suits your specific skin type and concerns. If you have severe acne or any underlying skin conditions, it's best to consult a dermatologist for personalized recommendations.\" additional_kwargs={} example=False\n",
      "\n",
      "\n",
      "Example #2:\n",
      "If you are looking for warm weather and beautiful beaches in December, here are some top destinations to consider:\n",
      "\n",
      "1. Maldives: Known for its crystal-clear waters and luxurious resorts, the Maldives is a perfect winter getaway. With average temperatures of around 27°C (81°F), you can enjoy sunbathing, snorkeling, and diving in the stunning coral reefs.\n",
      "\n",
      "2. Thailand: Thailand offers a variety of beach destinations such as Phuket, Krabi, and Koh Samui. With temperatures ranging from 28-32°C (82-89°F), you can relax on the white sandy beaches, explore vibrant marine life, and indulge in delicious Thai cuisine.\n",
      "\n",
      "3. Bali, Indonesia: Bali is a tropical paradise with warm temperatures around 30°C (86°F) in December. It offers a mix of stunning beaches, lush landscapes, and vibrant culture. You can enjoy surfing, snorkeling, or simply unwind in luxury beach resorts.\n",
      "\n",
      "4. Seychelles: Located in the Indian Ocean, Seychelles is known for its pristine white sand beaches and turquoise waters. With temperatures averaging around 29°C (84°F), you can enjoy swimming, snorkeling, and even spot rare wildlife in the national parks.\n",
      "\n",
      "5. Caribbean Islands: The Caribbean is a popular choice for warm weather and beach vacations in December. Destinations like Barbados, Jamaica, and the Dominican Republic offer beautiful beaches, water sports, and a vibrant island atmosphere.\n",
      "\n",
      "Remember to check travel advisories and local COVID-19 guidelines before planning your trip.\n"
     ]
    }
   ],
   "source": [
    "from langchain import PromptTemplate\n",
    "\n",
    "from langchain.prompts.chat import (\n",
    "    ChatPromptTemplate,\n",
    "    SystemMessagePromptTemplate,\n",
    "    HumanMessagePromptTemplate,\n",
    ")\n",
    "\n",
    "\n",
    "# First Example\n",
    "template = \"\"\"\n",
    "You are a skin care consulant that recommends products based on customer\n",
    "needs and preferences.\n",
    "\n",
    "What is a good {product_type} to help with {customer_request}?\n",
    "\"\"\"\n",
    "\n",
    "prompt = PromptTemplate(\n",
    "input_variables=[\"product_type\", \"customer_request\"],\n",
    "template=template,\n",
    ")\n",
    "\n",
    "print(\"Example #1:\")\n",
    "print(llm([HumanMessage(content=prompt.format(\n",
    "        product_type=\"face wash\",\n",
    "        customer_request = \"acne prone skin\"\n",
    "    ))]\n",
    "))\n",
    "print(\"\\n\")\n",
    "\n",
    "# Second Example\n",
    "system_message = \"You are an AI assistant travel assistant that provides vacation recommendations.\"\n",
    "\n",
    "system_message_prompt = SystemMessagePromptTemplate.from_template(system_message)\n",
    "human_template=\"{text}\"\n",
    "human_message_prompt = HumanMessagePromptTemplate.from_template(human_template)\n",
    "chat_prompt = ChatPromptTemplate.from_messages([system_message_prompt, human_message_prompt])\n",
    "chain = LLMChain(llm=llm, prompt=chat_prompt)\n",
    "result = chain.run(f\"Where should I go on vaction in Decemember for warm weather and beaches?\")\n",
    "print(\"Example #2:\")\n",
    "print(result)"
   ]
  },
  {
   "cell_type": "markdown",
   "id": "7b6723eb",
   "metadata": {},
   "source": [
    "## Chains\n",
    "There are many applications of chains that allow you to combine numerous LLM calls and actions.  <br>\n",
    "\n",
    "### Simple Sequential Chains  <br>\n",
    "Allow you to feed the output of one LLM Chain as input for another."
   ]
  },
  {
   "cell_type": "code",
   "execution_count": 24,
   "id": "af7c236f",
   "metadata": {},
   "outputs": [],
   "source": [
    "from langchain.chains import SimpleSequentialChain"
   ]
  },
  {
   "cell_type": "code",
   "execution_count": 25,
   "id": "2a4a32f0",
   "metadata": {},
   "outputs": [],
   "source": [
    "template = \"\"\"Your job is to come up with a fun DIY project for the specified gender, age, and description of a kid.\n",
    "% CHILD_DESCRIPTION\n",
    "{child_description}\n",
    "\n",
    "YOUR RESPONSE:\n",
    "\"\"\"\n",
    "prompt_template = PromptTemplate(input_variables=[\"child_description\"], template=template)\n",
    "\n",
    "# Holds my 'location' chain\n",
    "description_chain = LLMChain(llm=llm, prompt=prompt_template)"
   ]
  },
  {
   "cell_type": "code",
   "execution_count": 26,
   "id": "6eec47ff",
   "metadata": {},
   "outputs": [],
   "source": [
    "template = \"\"\"Given a DIY project, give a short and simple recipe step-by-step guide on how to complete the project and a materials list.\n",
    "% DIY_PROJECT\n",
    "{diy_project}\n",
    "\n",
    "YOUR RESPONSE:\n",
    "\"\"\"\n",
    "prompt_template = PromptTemplate(input_variables=[\"diy_project\"], template=template)\n",
    "\n",
    "# Holds my 'meal' chain\n",
    "diy_chain = LLMChain(llm=llm, prompt=prompt_template)"
   ]
  },
  {
   "cell_type": "code",
   "execution_count": 27,
   "id": "84a15aea",
   "metadata": {},
   "outputs": [],
   "source": [
    "overall_chain = SimpleSequentialChain(chains=[description_chain, diy_chain], verbose=True)"
   ]
  },
  {
   "cell_type": "code",
   "execution_count": 28,
   "id": "15928f72",
   "metadata": {},
   "outputs": [
    {
     "name": "stdout",
     "output_type": "stream",
     "text": [
      "\n",
      "\n",
      "\u001b[1m> Entering new SimpleSequentialChain chain...\u001b[0m\n",
      "\u001b[36;1m\u001b[1;3mDIY Princess Crown Craft Kit: \n",
      "\n",
      "Materials needed:\n",
      "- Cardboard or foam sheet\n",
      "- Scissors\n",
      "- Glue\n",
      "- Decorative items (such as glitter, stickers, feathers, beads, sequins)\n",
      "- Elastic string or ribbon\n",
      "\n",
      "Instructions:\n",
      "1. Cut a strip of cardboard or foam sheet that is long enough to fit around the child's head.\n",
      "2. Measure the strip to the child's head size and cut to adjust if needed.\n",
      "3. Let the child decorate the strip with glue and decorative items of their choice. They can use glitter, stickers, feathers, beads, sequins, or anything else they find appealing.\n",
      "4. Once the decorations are complete, let the glue dry completely.\n",
      "5. Attach elastic string or ribbon to both ends of the strip to create a crown that can be worn on the head.\n",
      "6. Help the child tie the elastic string or ribbon securely, making sure it is not too tight or too loose.\n",
      "7. The princess crown is now ready to be worn and enjoyed! The child can wear it during imaginative play, dress-up sessions, or even for a princess-themed birthday party.\n",
      "\n",
      "Note: Adult supervision may be required for cutting and tying the elastic string/ribbon.\u001b[0m\n",
      "\u001b[33;1m\u001b[1;3mDIY Princess Crown Craft Kit:\n",
      "\n",
      "Materials needed:\n",
      "- Cardboard or foam sheet\n",
      "- Scissors\n",
      "- Glue\n",
      "- Decorative items (such as glitter, stickers, feathers, beads, sequins)\n",
      "- Elastic string or ribbon\n",
      "\n",
      "Instructions:\n",
      "1. Cut a strip of cardboard or foam sheet that is long enough to fit around the child's head.\n",
      "2. Measure the strip to the child's head size and cut to adjust if needed.\n",
      "3. Let the child decorate the strip with glue and decorative items of their choice. They can use glitter, stickers, feathers, beads, sequins, or anything else they find appealing.\n",
      "4. Once the decorations are complete, let the glue dry completely.\n",
      "5. Attach elastic string or ribbon to both ends of the strip to create a crown that can be worn on the head.\n",
      "6. Help the child tie the elastic string or ribbon securely, making sure it is not too tight or too loose.\n",
      "7. The princess crown is now ready to be worn and enjoyed! The child can wear it during imaginative play, dress-up sessions, or even for a princess-themed birthday party.\n",
      "\n",
      "Note: Adult supervision may be required for cutting and tying the elastic string/ribbon.\u001b[0m\n",
      "\n",
      "\u001b[1m> Finished chain.\u001b[0m\n"
     ]
    }
   ],
   "source": [
    "review = overall_chain.run(\"5-year-old girl\")"
   ]
  }
 ],
 "metadata": {
  "kernelspec": {
   "display_name": "Python 3 (ipykernel)",
   "language": "python",
   "name": "python3"
  },
  "language_info": {
   "codemirror_mode": {
    "name": "ipython",
    "version": 3
   },
   "file_extension": ".py",
   "mimetype": "text/x-python",
   "name": "python",
   "nbconvert_exporter": "python",
   "pygments_lexer": "ipython3",
   "version": "3.11.4"
  }
 },
 "nbformat": 4,
 "nbformat_minor": 5
}
